{
  "nbformat": 4,
  "nbformat_minor": 0,
  "metadata": {
    "colab": {
      "name": "pyro_stocks.ipynb",
      "provenance": [],
      "collapsed_sections": [],
      "toc_visible": true
    },
    "kernelspec": {
      "name": "python3",
      "display_name": "Python 3"
    },
    "accelerator": "GPU"
  },
  "cells": [
    {
      "cell_type": "markdown",
      "metadata": {
        "id": "5Nw7Fs7QOqLK",
        "colab_type": "text"
      },
      "source": [
        "# CS 267A - Final Project | Pyro"
      ]
    },
    {
      "cell_type": "markdown",
      "metadata": {
        "id": "BFruJ45BWWnx",
        "colab_type": "text"
      },
      "source": [
        "## Pyro Stock Modeling"
      ]
    },
    {
      "cell_type": "code",
      "metadata": {
        "id": "hyivHJYOoGGc",
        "colab_type": "code",
        "colab": {
          "base_uri": "https://localhost:8080/",
          "height": 248
        },
        "outputId": "c9b3d1c9-95c0-4e00-8ec6-157aed8e0d3e"
      },
      "source": [
        "!pip install --upgrade -q jax==0.1.57 jaxlib==0.1.37 numpyro\n",
        "!pip install yfinance\n",
        "\n",
        "import jax.numpy as np\n",
        "from jax import random\n",
        "import numpyro; numpyro.set_host_device_count(4)\n",
        "import numpyro.distributions as dist\n",
        "from numpyro.infer import MCMC, NUTS\n",
        "assert numpyro.__version__.startswith('0.2.4')\n",
        "\n",
        "from scipy.stats import norm"
      ],
      "execution_count": null,
      "outputs": [
        {
          "output_type": "stream",
          "text": [
            "Requirement already satisfied: yfinance in /usr/local/lib/python3.6/dist-packages (0.1.54)\n",
            "Requirement already satisfied: pandas>=0.24 in /usr/local/lib/python3.6/dist-packages (from yfinance) (1.0.4)\n",
            "Requirement already satisfied: multitasking>=0.0.7 in /usr/local/lib/python3.6/dist-packages (from yfinance) (0.0.9)\n",
            "Requirement already satisfied: numpy>=1.15 in /usr/local/lib/python3.6/dist-packages (from yfinance) (1.18.5)\n",
            "Requirement already satisfied: requests>=2.20 in /usr/local/lib/python3.6/dist-packages (from yfinance) (2.23.0)\n",
            "Requirement already satisfied: pytz>=2017.2 in /usr/local/lib/python3.6/dist-packages (from pandas>=0.24->yfinance) (2018.9)\n",
            "Requirement already satisfied: python-dateutil>=2.6.1 in /usr/local/lib/python3.6/dist-packages (from pandas>=0.24->yfinance) (2.8.1)\n",
            "Requirement already satisfied: urllib3!=1.25.0,!=1.25.1,<1.26,>=1.21.1 in /usr/local/lib/python3.6/dist-packages (from requests>=2.20->yfinance) (1.24.3)\n",
            "Requirement already satisfied: certifi>=2017.4.17 in /usr/local/lib/python3.6/dist-packages (from requests>=2.20->yfinance) (2020.4.5.1)\n",
            "Requirement already satisfied: idna<3,>=2.5 in /usr/local/lib/python3.6/dist-packages (from requests>=2.20->yfinance) (2.9)\n",
            "Requirement already satisfied: chardet<4,>=3.0.2 in /usr/local/lib/python3.6/dist-packages (from requests>=2.20->yfinance) (3.0.4)\n",
            "Requirement already satisfied: six>=1.5 in /usr/local/lib/python3.6/dist-packages (from python-dateutil>=2.6.1->pandas>=0.24->yfinance) (1.12.0)\n"
          ],
          "name": "stdout"
        }
      ]
    },
    {
      "cell_type": "code",
      "metadata": {
        "id": "NcShDmrgcrW_",
        "colab_type": "code",
        "colab": {}
      },
      "source": [
        "def calc_ar(data, predict_len = 1):\n",
        "    \"\"\"AR Model for which parameters are calculated and not learned.\n",
        "\n",
        "    Parameters:\n",
        "    data (np.array): Array with training data\n",
        "    predict_len (int): Number of time-steps for which future prediction in needed\n",
        "\n",
        "    Returns:\n",
        "    np.array: Array with predictions of specified length \n",
        "    \"\"\"\n",
        "\n",
        "    # Calculate psi\n",
        "    # Source: Page 7 of https://www.math.utah.edu/~zhorvath/ar1.pdf\n",
        "    num = 0\n",
        "    for i in range(1, len(data)):\n",
        "        num += data[i] * data[i-1]\n",
        "\n",
        "    denom = 0\n",
        "    for i in range(0, len(data) - 1):\n",
        "        denom += data[i] * data[i]\n",
        "\n",
        "    psi = num / denom\n",
        "\n",
        "    # Find the distribution of epsilons\n",
        "    epsilon_dist = [0]*(len(data)-1)\n",
        "    for i in range(1, len(data)):\n",
        "        epsilon_dist[i-1] = data[i] - psi * data[i - 1]\n",
        "    epsilon_dist = np.array(epsilon_dist)\n",
        "    (loc, scale) = norm.fit(epsilon_dist)\n",
        "  \n",
        "    # For prediction, sample some epsilons from the distribution\n",
        "    epsilons = numpyro.sample(\"epsilons\", dist.Normal(loc=loc, scale=scale), rng_key=random.PRNGKey(2), sample_shape=(1, predict_len))[0]\n",
        "\n",
        "    # Make the predictions\n",
        "    predictions = [0] * predict_len\n",
        "\n",
        "    y_prev = data[-1]\n",
        "    for i in range(0, predict_len):\n",
        "        y_next =  epsilons[i] + y_prev * psi\n",
        "        predictions[i] = y_next\n",
        "        y_prev = y_next\n",
        "    growth = [((predictions[i]-data[-1])/data[-1])] +[0]*(predict_len-1)\n",
        "    for i in range(1,predict_len):\n",
        "        growth[i] = (predictions[i]-predictions[i-1])/predictions[i-1]\n",
        "    return np.array(growth)\n",
        "def profit(test,truth):\n",
        "    total = [0]*len(test[0])\n",
        "    for i in range(0,len(test[0])):\n",
        "        best_buy = np.argmax(test[:,i])\n",
        "        total[i] = 100*(truth[best_buy,i]+1)\n",
        "    return total\n",
        "def get_dataset(price_data, n ,growth_data, train_size = 500, test_size = 50):\n",
        "    \n",
        "    start_point = n*train_size\n",
        "    split_point = start_point + train_size\n",
        "    final_point = split_point + test_size\n",
        "    if final_point > len(price_data[0]):\n",
        "        return len(price_data[0]) - start_point\n",
        "    train = price_data[:,start_point:split_point]\n",
        "    test = price_data[:,split_point:final_point]\n",
        "    grow = growth_data[:,split_point:final_point]\n",
        "    return train,grow\n",
        "def get_results(train,train_len = 50):\n",
        "    results = [0]*len(train)\n",
        "    for i in range(0,len(train)):\n",
        "      \n",
        "      results[i]=(calc_ar(train[i],predict_len = train_len))\n",
        "    print(\"is_it_calc?\")\n",
        "    return np.array(results)\n",
        "def total_dataset(price_data,gt_data,train_size = 50):\n",
        "    count = 0\n",
        "    actual_total = []\n",
        "    best_total = []\n",
        "    while type(get_dataset(price_data,count,gt_data))!= type(1):\n",
        "        print(\"count\",count)\n",
        "        dataset = get_dataset(price_data,count,gt_data, test_size = train_size)\n",
        "        predictions = get_results(dataset[0],train_len = train_size)\n",
        "        actual_total.append(profit(predictions,dataset[1]))\n",
        "        best_total.append(profit(dataset[1],dataset[1]))\n",
        "        count+=1\n",
        "    return actual_total, best_total"
      ],
      "execution_count": null,
      "outputs": []
    },
    {
      "cell_type": "code",
      "metadata": {
        "colab_type": "code",
        "id": "oNWFzqBdlzQ5",
        "colab": {
          "base_uri": "https://localhost:8080/",
          "height": 211
        },
        "outputId": "92faa4de-7fca-4c0e-9c74-224fd16cda46"
      },
      "source": [
        "first_round = total_dataset(price_data, gt_data)"
      ],
      "execution_count": null,
      "outputs": [
        {
          "output_type": "stream",
          "text": [
            "count 0\n",
            "is_it_calc?\n",
            "count 1\n",
            "is_it_calc?\n",
            "count 2\n",
            "is_it_calc?\n",
            "count 3\n",
            "is_it_calc?\n",
            "count 4\n",
            "is_it_calc?\n",
            "count 5\n"
          ],
          "name": "stdout"
        }
      ]
    },
    {
      "cell_type": "code",
      "metadata": {
        "id": "HuFZqagPc2cW",
        "colab_type": "code",
        "colab": {
          "base_uri": "https://localhost:8080/",
          "height": 35
        },
        "outputId": "6dc91508-3564-4a40-a061-d8957a331c42"
      },
      "source": [
        "dataset = get_dataset(price_data,4,gt_data)\n",
        "predictions = get_results(dataset[0])\n",
        "#actual_income = profit(predictions,dataset[1])\n",
        "#best_income = profit(dataset[1],dataset[1])"
      ],
      "execution_count": null,
      "outputs": [
        {
          "output_type": "stream",
          "text": [
            "is_it_calc?\n"
          ],
          "name": "stdout"
        }
      ]
    },
    {
      "cell_type": "code",
      "metadata": {
        "id": "d36Alg2Rjs1m",
        "colab_type": "code",
        "colab": {
          "base_uri": "https://localhost:8080/",
          "height": 35
        },
        "outputId": "ce48c440-30c1-4012-a1c5-e4a74ebe7939"
      },
      "source": [
        "103669.37569486132-118125.99133141339"
      ],
      "execution_count": null,
      "outputs": [
        {
          "output_type": "execute_result",
          "data": {
            "text/plain": [
              "-14456.615636552073"
            ]
          },
          "metadata": {
            "tags": []
          },
          "execution_count": 83
        }
      ]
    }
  ]
}
